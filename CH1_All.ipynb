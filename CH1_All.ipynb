{
  "nbformat": 4,
  "nbformat_minor": 0,
  "metadata": {
    "colab": {
      "name": "CH1_All.ipynb",
      "provenance": [],
      "collapsed_sections": [],
      "authorship_tag": "ABX9TyP89TKV0FznHxFusqBg5AGE",
      "include_colab_link": true
    },
    "kernelspec": {
      "name": "python3",
      "display_name": "Python 3"
    }
  },
  "cells": [
    {
      "cell_type": "markdown",
      "metadata": {
        "id": "view-in-github",
        "colab_type": "text"
      },
      "source": [
        "<a href=\"https://colab.research.google.com/github/JackShih200190/python/blob/master/CH1_All.ipynb\" target=\"_parent\"><img src=\"https://colab.research.google.com/assets/colab-badge.svg\" alt=\"Open In Colab\"/></a>"
      ]
    },
    {
      "cell_type": "code",
      "metadata": {
        "id": "oENYrtiyJ_fG",
        "colab_type": "code",
        "outputId": "90fc867a-8e3c-44ac-a939-8ccdbef74a62",
        "colab": {
          "base_uri": "https://localhost:8080/",
          "height": 50
        }
      },
      "source": [
        "# ch1_1.py\n",
        "def factorial(n):\n",
        "    \"\"\" 計算n的階乘, n 必須是正整數 \"\"\"\n",
        "    if n == 1:\n",
        "        return 1\n",
        "    else:\n",
        "        return (n * factorial(n-1))\n",
        "\n",
        "N = eval(input(\"請輸入階乘數 : \"))\n",
        "print(N, \" 的階乘結果是 = \", factorial(N))\n",
        "\n",
        "\n",
        "\n",
        "\n",
        "\n",
        "    \n"
      ],
      "execution_count": 1,
      "outputs": [
        {
          "output_type": "stream",
          "text": [
            "請輸入階乘數 : 20\n",
            "20  的階乘結果是 =  2432902008176640000\n"
          ],
          "name": "stdout"
        }
      ]
    },
    {
      "cell_type": "code",
      "metadata": {
        "id": "dur7WINvQnoe",
        "colab_type": "code",
        "outputId": "3935caaa-6eda-4590-fe94-611026c67a13",
        "colab": {
          "base_uri": "https://localhost:8080/",
          "height": 68
        }
      },
      "source": [
        "# ch1_2.py\n",
        "def factorial(n):\n",
        "    \"\"\" 計算n的階乘, n 必須是正整數 \"\"\"\n",
        "    if n == 1:\n",
        "        return 1\n",
        "    else:\n",
        "        return (n * factorial(n-1))\n",
        "\n",
        "N = eval(input(\"請輸入數列的資料個數 : \"))\n",
        "times = 10000000000000          # 電腦每秒可處理數列數目\n",
        "day_secs = 60 * 60 * 24         # 一天秒數\n",
        "year_secs = 365 * day_secs      # 一年秒數\n",
        "combinations = factorial(N)     # 組合方式\n",
        "years = combinations / (times * year_secs)\n",
        "print(\"資料個數 %d, 數列組合數 = %d \" % (N, combinations))\n",
        "print(\"需要 %d 年才可以獲得結果\" % years)\n",
        "\n",
        "\n",
        "\n",
        "\n",
        "\n",
        "\n",
        "    \n",
        "\n"
      ],
      "execution_count": 0,
      "outputs": [
        {
          "output_type": "stream",
          "text": [
            "請輸入數列的資料個數 : 20\n",
            "資料個數 20, 數列組合數 = 2432902008176640000 \n",
            "需要 0 年才可以獲得結果\n"
          ],
          "name": "stdout"
        }
      ]
    },
    {
      "cell_type": "code",
      "metadata": {
        "id": "Fhjr0gIKC98t",
        "colab_type": "code",
        "outputId": "b1b82bd8-52ac-4b21-cdda-32a7bd9468bf",
        "colab": {
          "base_uri": "https://localhost:8080/",
          "height": 265
        }
      },
      "source": [
        "# ch1_4.py\n",
        "import matplotlib.pyplot as plt\n",
        "import numpy as np\n",
        "\n",
        "xpt = np.linspace(1, 10, 10)                # 建立含10個元素的陣列\n",
        "ypt1 = xpt / xpt                            # 時間複雜度是 O(1)\n",
        "ypt2 = np.log2(xpt)                         # 時間複雜度是 O(logn)               \n",
        "ypt3 = xpt                                  # 時間複雜度是 O(n)\n",
        "plt.plot(xpt, ypt1, '-o', label=\"O(1)\")                  \n",
        "plt.plot(xpt, ypt2, '-o', label=\"O(logn)\")                  \n",
        "plt.plot(xpt, ypt3, '-o', label=\"O(n)\")\n",
        "plt.legend(loc=\"best\")                      # 建立圖例\n",
        "plt.show()\n",
        "\n",
        "\n",
        "\n",
        "\n"
      ],
      "execution_count": 0,
      "outputs": [
        {
          "output_type": "display_data",
          "data": {
            "image/png": "[encoded data removed]",
            "text/plain": [
              "<Figure size 432x288 with 1 Axes>"
            ]
          },
          "metadata": {
            "tags": []
          }
        }
      ]
    },
    {
      "cell_type": "code",
      "metadata": {
        "id": "HuXHGJTBSTym",
        "colab_type": "code",
        "outputId": "bcfdcef5-0564-4a8a-df6f-0976fe464300",
        "colab": {
          "base_uri": "https://localhost:8080/",
          "height": 299
        }
      },
      "source": [
        "import matplotlib.pyplot as plt\n",
        "import numpy as np\n",
        "\n",
        "normal_samples = np.random.normal(size = 100000)\n",
        "plt.boxplot(normal_samples)\n",
        "plt.legend(loc=\"best\")\n",
        "\n",
        "\n"
      ],
      "execution_count": 0,
      "outputs": [
        {
          "output_type": "stream",
          "text": [
            "No handles with labels found to put in legend.\n"
          ],
          "name": "stderr"
        },
        {
          "output_type": "execute_result",
          "data": {
            "text/plain": [
              "<matplotlib.legend.Legend at 0x7f519328f978>"
            ]
          },
          "metadata": {
            "tags": []
          },
          "execution_count": 22
        },
        {
          "output_type": "display_data",
          "data": {
            "image/png": "[encoded data removed]",
            "text/plain": [
              "<Figure size 432x288 with 1 Axes>"
            ]
          },
          "metadata": {
            "tags": []
          }
        }
      ]
    },
    {
      "cell_type": "code",
      "metadata": {
        "id": "xRgUo_D2tPKt",
        "colab_type": "code",
        "outputId": "03f97776-8a1a-4477-b2ef-c1d23f59370e",
        "colab": {
          "base_uri": "https://localhost:8080/",
          "height": 68
        }
      },
      "source": [
        "ironmen = np.array([46, 8, 11, 11, 4, 56]) # 將 list 透過 numpy 的 array 方法進行轉換\n",
        "print(ironmen) # 看看 ironmen 的外觀\n",
        "print(type(ironmen)) # 看看 ironmen 的資料結構\n",
        "articles = ironmen * 30\n",
        "print(articles)"
      ],
      "execution_count": 0,
      "outputs": [
        {
          "output_type": "stream",
          "text": [
            "[46  8 11 11  4 56]\n",
            "<class 'numpy.ndarray'>\n",
            "[1380  240  330  330  120 1680]\n"
          ],
          "name": "stdout"
        }
      ]
    },
    {
      "cell_type": "code",
      "metadata": {
        "id": "JxU5iDs9tItV",
        "colab_type": "code",
        "outputId": "41562a26-fb41-4d9b-8dc6-7196d2c0de88",
        "colab": {
          "base_uri": "https://localhost:8080/",
          "height": 68
        }
      },
      "source": [
        "import numpy as np\n",
        "\n",
        "ironmen = np.array([46, 8, 11, 11, 4, 56])\n",
        "print(ironmen[0]) # 選出 Modern Web 組的鐵人數\n",
        "print(ironmen > 10) # 哪幾組的鐵人數超過 10 人\n",
        "print(ironmen[ironmen > 10]) # 超過 10 人的鐵人數"
      ],
      "execution_count": 0,
      "outputs": [
        {
          "output_type": "stream",
          "text": [
            "46\n",
            "[ True False  True  True False  True]\n",
            "[46 11 11 56]\n"
          ],
          "name": "stdout"
        }
      ]
    },
    {
      "cell_type": "code",
      "metadata": {
        "id": "STiNAq-tv5qo",
        "colab_type": "code",
        "outputId": "e108492c-4dc2-42e8-d626-0a1ad21ad50d",
        "colab": {
          "base_uri": "https://localhost:8080/",
          "height": 282
        }
      },
      "source": [
        "import numpy as np\n",
        "import matplotlib.pyplot as plt\n",
        "\n",
        "A=np.linspace(3,10,10)\n",
        "B=np.linspace(2,15,10)\n",
        "plt.plot(A,B,'--r')\n",
        "plt.plot()\n",
        "\n"
      ],
      "execution_count": 0,
      "outputs": [
        {
          "output_type": "execute_result",
          "data": {
            "text/plain": [
              "[<matplotlib.lines.Line2D at 0x7f51929d0128>]"
            ]
          },
          "metadata": {
            "tags": []
          },
          "execution_count": 18
        },
        {
          "output_type": "display_data",
          "data": {
            "image/png": "[encoded data removed]",
            "text/plain": [
              "<Figure size 432x288 with 1 Axes>"
            ]
          },
          "metadata": {
            "tags": []
          }
        }
      ]
    },
    {
      "cell_type": "code",
      "metadata": {
        "id": "pw9YVBeNZwNo",
        "colab_type": "code",
        "colab": {
          "base_uri": "https://localhost:8080/",
          "height": 50
        },
        "outputId": "288a0088-161e-43d2-a8de-5c0dfe0e56b3"
      },
      "source": [
        "def factorial(n):\n",
        "  if n == 1:\n",
        "    return 1\n",
        "  else:\n",
        "    return (n * factorial(n-1))\n",
        "\n",
        "\n",
        "N=eval(input(\"請輸入資料量\"))\n",
        "T=0.0000000001\n",
        "a=(T * factorial(N))\n",
        "b=a//1\n",
        "print(\"需要時間\",b,\"秒\")"
      ],
      "execution_count": 15,
      "outputs": [
        {
          "output_type": "stream",
          "text": [
            "請輸入資料量20\n",
            "需要時間 243290200.0 秒\n"
          ],
          "name": "stdout"
        }
      ]
    },
    {
      "cell_type": "code",
      "metadata": {
        "id": "XHRobjP3hPog",
        "colab_type": "code",
        "colab": {
          "base_uri": "https://localhost:8080/",
          "height": 1000
        },
        "outputId": "67b06599-fdd3-4a7e-f7d9-4806bdff8f14"
      },
      "source": [
        "import itertools as ite\n",
        "x= ['a','b','c','d','e','f']\n",
        "perm=ite.permutations(x)\n",
        "n=0\n",
        "for i in perm:\n",
        "  n=n+1\n",
        "  print(i)\n",
        "\n",
        "print(\"總共%d次\" %n)\n",
        "\n",
        "\n"
      ],
      "execution_count": 31,
      "outputs": [
        {
          "output_type": "stream",
          "text": [
            "('a', 'b', 'c', 'd', 'e', 'f')\n",
            "('a', 'b', 'c', 'd', 'f', 'e')\n",
            "('a', 'b', 'c', 'e', 'd', 'f')\n",
            "('a', 'b', 'c', 'e', 'f', 'd')\n",
            "('a', 'b', 'c', 'f', 'd', 'e')\n",
            "('a', 'b', 'c', 'f', 'e', 'd')\n",
            "('a', 'b', 'd', 'c', 'e', 'f')\n",
            "('a', 'b', 'd', 'c', 'f', 'e')\n",
            "('a', 'b', 'd', 'e', 'c', 'f')\n",
            "('a', 'b', 'd', 'e', 'f', 'c')\n",
            "('a', 'b', 'd', 'f', 'c', 'e')\n",
            "('a', 'b', 'd', 'f', 'e', 'c')\n",
            "('a', 'b', 'e', 'c', 'd', 'f')\n",
            "('a', 'b', 'e', 'c', 'f', 'd')\n",
            "('a', 'b', 'e', 'd', 'c', 'f')\n",
            "('a', 'b', 'e', 'd', 'f', 'c')\n",
            "('a', 'b', 'e', 'f', 'c', 'd')\n",
            "('a', 'b', 'e', 'f', 'd', 'c')\n",
            "('a', 'b', 'f', 'c', 'd', 'e')\n",
            "('a', 'b', 'f', 'c', 'e', 'd')\n",
            "('a', 'b', 'f', 'd', 'c', 'e')\n",
            "('a', 'b', 'f', 'd', 'e', 'c')\n",
            "('a', 'b', 'f', 'e', 'c', 'd')\n",
            "('a', 'b', 'f', 'e', 'd', 'c')\n",
            "('a', 'c', 'b', 'd', 'e', 'f')\n",
            "('a', 'c', 'b', 'd', 'f', 'e')\n",
            "('a', 'c', 'b', 'e', 'd', 'f')\n",
            "('a', 'c', 'b', 'e', 'f', 'd')\n",
            "('a', 'c', 'b', 'f', 'd', 'e')\n",
            "('a', 'c', 'b', 'f', 'e', 'd')\n",
            "('a', 'c', 'd', 'b', 'e', 'f')\n",
            "('a', 'c', 'd', 'b', 'f', 'e')\n",
            "('a', 'c', 'd', 'e', 'b', 'f')\n",
            "('a', 'c', 'd', 'e', 'f', 'b')\n",
            "('a', 'c', 'd', 'f', 'b', 'e')\n",
            "('a', 'c', 'd', 'f', 'e', 'b')\n",
            "('a', 'c', 'e', 'b', 'd', 'f')\n",
            "('a', 'c', 'e', 'b', 'f', 'd')\n",
            "('a', 'c', 'e', 'd', 'b', 'f')\n",
            "('a', 'c', 'e', 'd', 'f', 'b')\n",
            "('a', 'c', 'e', 'f', 'b', 'd')\n",
            "('a', 'c', 'e', 'f', 'd', 'b')\n",
            "('a', 'c', 'f', 'b', 'd', 'e')\n",
            "('a', 'c', 'f', 'b', 'e', 'd')\n",
            "('a', 'c', 'f', 'd', 'b', 'e')\n",
            "('a', 'c', 'f', 'd', 'e', 'b')\n",
            "('a', 'c', 'f', 'e', 'b', 'd')\n",
            "('a', 'c', 'f', 'e', 'd', 'b')\n",
            "('a', 'd', 'b', 'c', 'e', 'f')\n",
            "('a', 'd', 'b', 'c', 'f', 'e')\n",
            "('a', 'd', 'b', 'e', 'c', 'f')\n",
            "('a', 'd', 'b', 'e', 'f', 'c')\n",
            "('a', 'd', 'b', 'f', 'c', 'e')\n",
            "('a', 'd', 'b', 'f', 'e', 'c')\n",
            "('a', 'd', 'c', 'b', 'e', 'f')\n",
            "('a', 'd', 'c', 'b', 'f', 'e')\n",
            "('a', 'd', 'c', 'e', 'b', 'f')\n",
            "('a', 'd', 'c', 'e', 'f', 'b')\n",
            "('a', 'd', 'c', 'f', 'b', 'e')\n",
            "('a', 'd', 'c', 'f', 'e', 'b')\n",
            "('a', 'd', 'e', 'b', 'c', 'f')\n",
            "('a', 'd', 'e', 'b', 'f', 'c')\n",
            "('a', 'd', 'e', 'c', 'b', 'f')\n",
            "('a', 'd', 'e', 'c', 'f', 'b')\n",
            "('a', 'd', 'e', 'f', 'b', 'c')\n",
            "('a', 'd', 'e', 'f', 'c', 'b')\n",
            "('a', 'd', 'f', 'b', 'c', 'e')\n",
            "('a', 'd', 'f', 'b', 'e', 'c')\n",
            "('a', 'd', 'f', 'c', 'b', 'e')\n",
            "('a', 'd', 'f', 'c', 'e', 'b')\n",
            "('a', 'd', 'f', 'e', 'b', 'c')\n",
            "('a', 'd', 'f', 'e', 'c', 'b')\n",
            "('a', 'e', 'b', 'c', 'd', 'f')\n",
            "('a', 'e', 'b', 'c', 'f', 'd')\n",
            "('a', 'e', 'b', 'd', 'c', 'f')\n",
            "('a', 'e', 'b', 'd', 'f', 'c')\n",
            "('a', 'e', 'b', 'f', 'c', 'd')\n",
            "('a', 'e', 'b', 'f', 'd', 'c')\n",
            "('a', 'e', 'c', 'b', 'd', 'f')\n",
            "('a', 'e', 'c', 'b', 'f', 'd')\n",
            "('a', 'e', 'c', 'd', 'b', 'f')\n",
            "('a', 'e', 'c', 'd', 'f', 'b')\n",
            "('a', 'e', 'c', 'f', 'b', 'd')\n",
            "('a', 'e', 'c', 'f', 'd', 'b')\n",
            "('a', 'e', 'd', 'b', 'c', 'f')\n",
            "('a', 'e', 'd', 'b', 'f', 'c')\n",
            "('a', 'e', 'd', 'c', 'b', 'f')\n",
            "('a', 'e', 'd', 'c', 'f', 'b')\n",
            "('a', 'e', 'd', 'f', 'b', 'c')\n",
            "('a', 'e', 'd', 'f', 'c', 'b')\n",
            "('a', 'e', 'f', 'b', 'c', 'd')\n",
            "('a', 'e', 'f', 'b', 'd', 'c')\n",
            "('a', 'e', 'f', 'c', 'b', 'd')\n",
            "('a', 'e', 'f', 'c', 'd', 'b')\n",
            "('a', 'e', 'f', 'd', 'b', 'c')\n",
            "('a', 'e', 'f', 'd', 'c', 'b')\n",
            "('a', 'f', 'b', 'c', 'd', 'e')\n",
            "('a', 'f', 'b', 'c', 'e', 'd')\n",
            "('a', 'f', 'b', 'd', 'c', 'e')\n",
            "('a', 'f', 'b', 'd', 'e', 'c')\n",
            "('a', 'f', 'b', 'e', 'c', 'd')\n",
            "('a', 'f', 'b', 'e', 'd', 'c')\n",
            "('a', 'f', 'c', 'b', 'd', 'e')\n",
            "('a', 'f', 'c', 'b', 'e', 'd')\n",
            "('a', 'f', 'c', 'd', 'b', 'e')\n",
            "('a', 'f', 'c', 'd', 'e', 'b')\n",
            "('a', 'f', 'c', 'e', 'b', 'd')\n",
            "('a', 'f', 'c', 'e', 'd', 'b')\n",
            "('a', 'f', 'd', 'b', 'c', 'e')\n",
            "('a', 'f', 'd', 'b', 'e', 'c')\n",
            "('a', 'f', 'd', 'c', 'b', 'e')\n",
            "('a', 'f', 'd', 'c', 'e', 'b')\n",
            "('a', 'f', 'd', 'e', 'b', 'c')\n",
            "('a', 'f', 'd', 'e', 'c', 'b')\n",
            "('a', 'f', 'e', 'b', 'c', 'd')\n",
            "('a', 'f', 'e', 'b', 'd', 'c')\n",
            "('a', 'f', 'e', 'c', 'b', 'd')\n",
            "('a', 'f', 'e', 'c', 'd', 'b')\n",
            "('a', 'f', 'e', 'd', 'b', 'c')\n",
            "('a', 'f', 'e', 'd', 'c', 'b')\n",
            "('b', 'a', 'c', 'd', 'e', 'f')\n",
            "('b', 'a', 'c', 'd', 'f', 'e')\n",
            "('b', 'a', 'c', 'e', 'd', 'f')\n",
            "('b', 'a', 'c', 'e', 'f', 'd')\n",
            "('b', 'a', 'c', 'f', 'd', 'e')\n",
            "('b', 'a', 'c', 'f', 'e', 'd')\n",
            "('b', 'a', 'd', 'c', 'e', 'f')\n",
            "('b', 'a', 'd', 'c', 'f', 'e')\n",
            "('b', 'a', 'd', 'e', 'c', 'f')\n",
            "('b', 'a', 'd', 'e', 'f', 'c')\n",
            "('b', 'a', 'd', 'f', 'c', 'e')\n",
            "('b', 'a', 'd', 'f', 'e', 'c')\n",
            "('b', 'a', 'e', 'c', 'd', 'f')\n",
            "('b', 'a', 'e', 'c', 'f', 'd')\n",
            "('b', 'a', 'e', 'd', 'c', 'f')\n",
            "('b', 'a', 'e', 'd', 'f', 'c')\n",
            "('b', 'a', 'e', 'f', 'c', 'd')\n",
            "('b', 'a', 'e', 'f', 'd', 'c')\n",
            "('b', 'a', 'f', 'c', 'd', 'e')\n",
            "('b', 'a', 'f', 'c', 'e', 'd')\n",
            "('b', 'a', 'f', 'd', 'c', 'e')\n",
            "('b', 'a', 'f', 'd', 'e', 'c')\n",
            "('b', 'a', 'f', 'e', 'c', 'd')\n",
            "('b', 'a', 'f', 'e', 'd', 'c')\n",
            "('b', 'c', 'a', 'd', 'e', 'f')\n",
            "('b', 'c', 'a', 'd', 'f', 'e')\n",
            "('b', 'c', 'a', 'e', 'd', 'f')\n",
            "('b', 'c', 'a', 'e', 'f', 'd')\n",
            "('b', 'c', 'a', 'f', 'd', 'e')\n",
            "('b', 'c', 'a', 'f', 'e', 'd')\n",
            "('b', 'c', 'd', 'a', 'e', 'f')\n",
            "('b', 'c', 'd', 'a', 'f', 'e')\n",
            "('b', 'c', 'd', 'e', 'a', 'f')\n",
            "('b', 'c', 'd', 'e', 'f', 'a')\n",
            "('b', 'c', 'd', 'f', 'a', 'e')\n",
            "('b', 'c', 'd', 'f', 'e', 'a')\n",
            "('b', 'c', 'e', 'a', 'd', 'f')\n",
            "('b', 'c', 'e', 'a', 'f', 'd')\n",
            "('b', 'c', 'e', 'd', 'a', 'f')\n",
            "('b', 'c', 'e', 'd', 'f', 'a')\n",
            "('b', 'c', 'e', 'f', 'a', 'd')\n",
            "('b', 'c', 'e', 'f', 'd', 'a')\n",
            "('b', 'c', 'f', 'a', 'd', 'e')\n",
            "('b', 'c', 'f', 'a', 'e', 'd')\n",
            "('b', 'c', 'f', 'd', 'a', 'e')\n",
            "('b', 'c', 'f', 'd', 'e', 'a')\n",
            "('b', 'c', 'f', 'e', 'a', 'd')\n",
            "('b', 'c', 'f', 'e', 'd', 'a')\n",
            "('b', 'd', 'a', 'c', 'e', 'f')\n",
            "('b', 'd', 'a', 'c', 'f', 'e')\n",
            "('b', 'd', 'a', 'e', 'c', 'f')\n",
            "('b', 'd', 'a', 'e', 'f', 'c')\n",
            "('b', 'd', 'a', 'f', 'c', 'e')\n",
            "('b', 'd', 'a', 'f', 'e', 'c')\n",
            "('b', 'd', 'c', 'a', 'e', 'f')\n",
            "('b', 'd', 'c', 'a', 'f', 'e')\n",
            "('b', 'd', 'c', 'e', 'a', 'f')\n",
            "('b', 'd', 'c', 'e', 'f', 'a')\n",
            "('b', 'd', 'c', 'f', 'a', 'e')\n",
            "('b', 'd', 'c', 'f', 'e', 'a')\n",
            "('b', 'd', 'e', 'a', 'c', 'f')\n",
            "('b', 'd', 'e', 'a', 'f', 'c')\n",
            "('b', 'd', 'e', 'c', 'a', 'f')\n",
            "('b', 'd', 'e', 'c', 'f', 'a')\n",
            "('b', 'd', 'e', 'f', 'a', 'c')\n",
            "('b', 'd', 'e', 'f', 'c', 'a')\n",
            "('b', 'd', 'f', 'a', 'c', 'e')\n",
            "('b', 'd', 'f', 'a', 'e', 'c')\n",
            "('b', 'd', 'f', 'c', 'a', 'e')\n",
            "('b', 'd', 'f', 'c', 'e', 'a')\n",
            "('b', 'd', 'f', 'e', 'a', 'c')\n",
            "('b', 'd', 'f', 'e', 'c', 'a')\n",
            "('b', 'e', 'a', 'c', 'd', 'f')\n",
            "('b', 'e', 'a', 'c', 'f', 'd')\n",
            "('b', 'e', 'a', 'd', 'c', 'f')\n",
            "('b', 'e', 'a', 'd', 'f', 'c')\n",
            "('b', 'e', 'a', 'f', 'c', 'd')\n",
            "('b', 'e', 'a', 'f', 'd', 'c')\n",
            "('b', 'e', 'c', 'a', 'd', 'f')\n",
            "('b', 'e', 'c', 'a', 'f', 'd')\n",
            "('b', 'e', 'c', 'd', 'a', 'f')\n",
            "('b', 'e', 'c', 'd', 'f', 'a')\n",
            "('b', 'e', 'c', 'f', 'a', 'd')\n",
            "('b', 'e', 'c', 'f', 'd', 'a')\n",
            "('b', 'e', 'd', 'a', 'c', 'f')\n",
            "('b', 'e', 'd', 'a', 'f', 'c')\n",
            "('b', 'e', 'd', 'c', 'a', 'f')\n",
            "('b', 'e', 'd', 'c', 'f', 'a')\n",
            "('b', 'e', 'd', 'f', 'a', 'c')\n",
            "('b', 'e', 'd', 'f', 'c', 'a')\n",
            "('b', 'e', 'f', 'a', 'c', 'd')\n",
            "('b', 'e', 'f', 'a', 'd', 'c')\n",
            "('b', 'e', 'f', 'c', 'a', 'd')\n",
            "('b', 'e', 'f', 'c', 'd', 'a')\n",
            "('b', 'e', 'f', 'd', 'a', 'c')\n",
            "('b', 'e', 'f', 'd', 'c', 'a')\n",
            "('b', 'f', 'a', 'c', 'd', 'e')\n",
            "('b', 'f', 'a', 'c', 'e', 'd')\n",
            "('b', 'f', 'a', 'd', 'c', 'e')\n",
            "('b', 'f', 'a', 'd', 'e', 'c')\n",
            "('b', 'f', 'a', 'e', 'c', 'd')\n",
            "('b', 'f', 'a', 'e', 'd', 'c')\n",
            "('b', 'f', 'c', 'a', 'd', 'e')\n",
            "('b', 'f', 'c', 'a', 'e', 'd')\n",
            "('b', 'f', 'c', 'd', 'a', 'e')\n",
            "('b', 'f', 'c', 'd', 'e', 'a')\n",
            "('b', 'f', 'c', 'e', 'a', 'd')\n",
            "('b', 'f', 'c', 'e', 'd', 'a')\n",
            "('b', 'f', 'd', 'a', 'c', 'e')\n",
            "('b', 'f', 'd', 'a', 'e', 'c')\n",
            "('b', 'f', 'd', 'c', 'a', 'e')\n",
            "('b', 'f', 'd', 'c', 'e', 'a')\n",
            "('b', 'f', 'd', 'e', 'a', 'c')\n",
            "('b', 'f', 'd', 'e', 'c', 'a')\n",
            "('b', 'f', 'e', 'a', 'c', 'd')\n",
            "('b', 'f', 'e', 'a', 'd', 'c')\n",
            "('b', 'f', 'e', 'c', 'a', 'd')\n",
            "('b', 'f', 'e', 'c', 'd', 'a')\n",
            "('b', 'f', 'e', 'd', 'a', 'c')\n",
            "('b', 'f', 'e', 'd', 'c', 'a')\n",
            "('c', 'a', 'b', 'd', 'e', 'f')\n",
            "('c', 'a', 'b', 'd', 'f', 'e')\n",
            "('c', 'a', 'b', 'e', 'd', 'f')\n",
            "('c', 'a', 'b', 'e', 'f', 'd')\n",
            "('c', 'a', 'b', 'f', 'd', 'e')\n",
            "('c', 'a', 'b', 'f', 'e', 'd')\n",
            "('c', 'a', 'd', 'b', 'e', 'f')\n",
            "('c', 'a', 'd', 'b', 'f', 'e')\n",
            "('c', 'a', 'd', 'e', 'b', 'f')\n",
            "('c', 'a', 'd', 'e', 'f', 'b')\n",
            "('c', 'a', 'd', 'f', 'b', 'e')\n",
            "('c', 'a', 'd', 'f', 'e', 'b')\n",
            "('c', 'a', 'e', 'b', 'd', 'f')\n",
            "('c', 'a', 'e', 'b', 'f', 'd')\n",
            "('c', 'a', 'e', 'd', 'b', 'f')\n",
            "('c', 'a', 'e', 'd', 'f', 'b')\n",
            "('c', 'a', 'e', 'f', 'b', 'd')\n",
            "('c', 'a', 'e', 'f', 'd', 'b')\n",
            "('c', 'a', 'f', 'b', 'd', 'e')\n",
            "('c', 'a', 'f', 'b', 'e', 'd')\n",
            "('c', 'a', 'f', 'd', 'b', 'e')\n",
            "('c', 'a', 'f', 'd', 'e', 'b')\n",
            "('c', 'a', 'f', 'e', 'b', 'd')\n",
            "('c', 'a', 'f', 'e', 'd', 'b')\n",
            "('c', 'b', 'a', 'd', 'e', 'f')\n",
            "('c', 'b', 'a', 'd', 'f', 'e')\n",
            "('c', 'b', 'a', 'e', 'd', 'f')\n",
            "('c', 'b', 'a', 'e', 'f', 'd')\n",
            "('c', 'b', 'a', 'f', 'd', 'e')\n",
            "('c', 'b', 'a', 'f', 'e', 'd')\n",
            "('c', 'b', 'd', 'a', 'e', 'f')\n",
            "('c', 'b', 'd', 'a', 'f', 'e')\n",
            "('c', 'b', 'd', 'e', 'a', 'f')\n",
            "('c', 'b', 'd', 'e', 'f', 'a')\n",
            "('c', 'b', 'd', 'f', 'a', 'e')\n",
            "('c', 'b', 'd', 'f', 'e', 'a')\n",
            "('c', 'b', 'e', 'a', 'd', 'f')\n",
            "('c', 'b', 'e', 'a', 'f', 'd')\n",
            "('c', 'b', 'e', 'd', 'a', 'f')\n",
            "('c', 'b', 'e', 'd', 'f', 'a')\n",
            "('c', 'b', 'e', 'f', 'a', 'd')\n",
            "('c', 'b', 'e', 'f', 'd', 'a')\n",
            "('c', 'b', 'f', 'a', 'd', 'e')\n",
            "('c', 'b', 'f', 'a', 'e', 'd')\n",
            "('c', 'b', 'f', 'd', 'a', 'e')\n",
            "('c', 'b', 'f', 'd', 'e', 'a')\n",
            "('c', 'b', 'f', 'e', 'a', 'd')\n",
            "('c', 'b', 'f', 'e', 'd', 'a')\n",
            "('c', 'd', 'a', 'b', 'e', 'f')\n",
            "('c', 'd', 'a', 'b', 'f', 'e')\n",
            "('c', 'd', 'a', 'e', 'b', 'f')\n",
            "('c', 'd', 'a', 'e', 'f', 'b')\n",
            "('c', 'd', 'a', 'f', 'b', 'e')\n",
            "('c', 'd', 'a', 'f', 'e', 'b')\n",
            "('c', 'd', 'b', 'a', 'e', 'f')\n",
            "('c', 'd', 'b', 'a', 'f', 'e')\n",
            "('c', 'd', 'b', 'e', 'a', 'f')\n",
            "('c', 'd', 'b', 'e', 'f', 'a')\n",
            "('c', 'd', 'b', 'f', 'a', 'e')\n",
            "('c', 'd', 'b', 'f', 'e', 'a')\n",
            "('c', 'd', 'e', 'a', 'b', 'f')\n",
            "('c', 'd', 'e', 'a', 'f', 'b')\n",
            "('c', 'd', 'e', 'b', 'a', 'f')\n",
            "('c', 'd', 'e', 'b', 'f', 'a')\n",
            "('c', 'd', 'e', 'f', 'a', 'b')\n",
            "('c', 'd', 'e', 'f', 'b', 'a')\n",
            "('c', 'd', 'f', 'a', 'b', 'e')\n",
            "('c', 'd', 'f', 'a', 'e', 'b')\n",
            "('c', 'd', 'f', 'b', 'a', 'e')\n",
            "('c', 'd', 'f', 'b', 'e', 'a')\n",
            "('c', 'd', 'f', 'e', 'a', 'b')\n",
            "('c', 'd', 'f', 'e', 'b', 'a')\n",
            "('c', 'e', 'a', 'b', 'd', 'f')\n",
            "('c', 'e', 'a', 'b', 'f', 'd')\n",
            "('c', 'e', 'a', 'd', 'b', 'f')\n",
            "('c', 'e', 'a', 'd', 'f', 'b')\n",
            "('c', 'e', 'a', 'f', 'b', 'd')\n",
            "('c', 'e', 'a', 'f', 'd', 'b')\n",
            "('c', 'e', 'b', 'a', 'd', 'f')\n",
            "('c', 'e', 'b', 'a', 'f', 'd')\n",
            "('c', 'e', 'b', 'd', 'a', 'f')\n",
            "('c', 'e', 'b', 'd', 'f', 'a')\n",
            "('c', 'e', 'b', 'f', 'a', 'd')\n",
            "('c', 'e', 'b', 'f', 'd', 'a')\n",
            "('c', 'e', 'd', 'a', 'b', 'f')\n",
            "('c', 'e', 'd', 'a', 'f', 'b')\n",
            "('c', 'e', 'd', 'b', 'a', 'f')\n",
            "('c', 'e', 'd', 'b', 'f', 'a')\n",
            "('c', 'e', 'd', 'f', 'a', 'b')\n",
            "('c', 'e', 'd', 'f', 'b', 'a')\n",
            "('c', 'e', 'f', 'a', 'b', 'd')\n",
            "('c', 'e', 'f', 'a', 'd', 'b')\n",
            "('c', 'e', 'f', 'b', 'a', 'd')\n",
            "('c', 'e', 'f', 'b', 'd', 'a')\n",
            "('c', 'e', 'f', 'd', 'a', 'b')\n",
            "('c', 'e', 'f', 'd', 'b', 'a')\n",
            "('c', 'f', 'a', 'b', 'd', 'e')\n",
            "('c', 'f', 'a', 'b', 'e', 'd')\n",
            "('c', 'f', 'a', 'd', 'b', 'e')\n",
            "('c', 'f', 'a', 'd', 'e', 'b')\n",
            "('c', 'f', 'a', 'e', 'b', 'd')\n",
            "('c', 'f', 'a', 'e', 'd', 'b')\n",
            "('c', 'f', 'b', 'a', 'd', 'e')\n",
            "('c', 'f', 'b', 'a', 'e', 'd')\n",
            "('c', 'f', 'b', 'd', 'a', 'e')\n",
            "('c', 'f', 'b', 'd', 'e', 'a')\n",
            "('c', 'f', 'b', 'e', 'a', 'd')\n",
            "('c', 'f', 'b', 'e', 'd', 'a')\n",
            "('c', 'f', 'd', 'a', 'b', 'e')\n",
            "('c', 'f', 'd', 'a', 'e', 'b')\n",
            "('c', 'f', 'd', 'b', 'a', 'e')\n",
            "('c', 'f', 'd', 'b', 'e', 'a')\n",
            "('c', 'f', 'd', 'e', 'a', 'b')\n",
            "('c', 'f', 'd', 'e', 'b', 'a')\n",
            "('c', 'f', 'e', 'a', 'b', 'd')\n",
            "('c', 'f', 'e', 'a', 'd', 'b')\n",
            "('c', 'f', 'e', 'b', 'a', 'd')\n",
            "('c', 'f', 'e', 'b', 'd', 'a')\n",
            "('c', 'f', 'e', 'd', 'a', 'b')\n",
            "('c', 'f', 'e', 'd', 'b', 'a')\n",
            "('d', 'a', 'b', 'c', 'e', 'f')\n",
            "('d', 'a', 'b', 'c', 'f', 'e')\n",
            "('d', 'a', 'b', 'e', 'c', 'f')\n",
            "('d', 'a', 'b', 'e', 'f', 'c')\n",
            "('d', 'a', 'b', 'f', 'c', 'e')\n",
            "('d', 'a', 'b', 'f', 'e', 'c')\n",
            "('d', 'a', 'c', 'b', 'e', 'f')\n",
            "('d', 'a', 'c', 'b', 'f', 'e')\n",
            "('d', 'a', 'c', 'e', 'b', 'f')\n",
            "('d', 'a', 'c', 'e', 'f', 'b')\n",
            "('d', 'a', 'c', 'f', 'b', 'e')\n",
            "('d', 'a', 'c', 'f', 'e', 'b')\n",
            "('d', 'a', 'e', 'b', 'c', 'f')\n",
            "('d', 'a', 'e', 'b', 'f', 'c')\n",
            "('d', 'a', 'e', 'c', 'b', 'f')\n",
            "('d', 'a', 'e', 'c', 'f', 'b')\n",
            "('d', 'a', 'e', 'f', 'b', 'c')\n",
            "('d', 'a', 'e', 'f', 'c', 'b')\n",
            "('d', 'a', 'f', 'b', 'c', 'e')\n",
            "('d', 'a', 'f', 'b', 'e', 'c')\n",
            "('d', 'a', 'f', 'c', 'b', 'e')\n",
            "('d', 'a', 'f', 'c', 'e', 'b')\n",
            "('d', 'a', 'f', 'e', 'b', 'c')\n",
            "('d', 'a', 'f', 'e', 'c', 'b')\n",
            "('d', 'b', 'a', 'c', 'e', 'f')\n",
            "('d', 'b', 'a', 'c', 'f', 'e')\n",
            "('d', 'b', 'a', 'e', 'c', 'f')\n",
            "('d', 'b', 'a', 'e', 'f', 'c')\n",
            "('d', 'b', 'a', 'f', 'c', 'e')\n",
            "('d', 'b', 'a', 'f', 'e', 'c')\n",
            "('d', 'b', 'c', 'a', 'e', 'f')\n",
            "('d', 'b', 'c', 'a', 'f', 'e')\n",
            "('d', 'b', 'c', 'e', 'a', 'f')\n",
            "('d', 'b', 'c', 'e', 'f', 'a')\n",
            "('d', 'b', 'c', 'f', 'a', 'e')\n",
            "('d', 'b', 'c', 'f', 'e', 'a')\n",
            "('d', 'b', 'e', 'a', 'c', 'f')\n",
            "('d', 'b', 'e', 'a', 'f', 'c')\n",
            "('d', 'b', 'e', 'c', 'a', 'f')\n",
            "('d', 'b', 'e', 'c', 'f', 'a')\n",
            "('d', 'b', 'e', 'f', 'a', 'c')\n",
            "('d', 'b', 'e', 'f', 'c', 'a')\n",
            "('d', 'b', 'f', 'a', 'c', 'e')\n",
            "('d', 'b', 'f', 'a', 'e', 'c')\n",
            "('d', 'b', 'f', 'c', 'a', 'e')\n",
            "('d', 'b', 'f', 'c', 'e', 'a')\n",
            "('d', 'b', 'f', 'e', 'a', 'c')\n",
            "('d', 'b', 'f', 'e', 'c', 'a')\n",
            "('d', 'c', 'a', 'b', 'e', 'f')\n",
            "('d', 'c', 'a', 'b', 'f', 'e')\n",
            "('d', 'c', 'a', 'e', 'b', 'f')\n",
            "('d', 'c', 'a', 'e', 'f', 'b')\n",
            "('d', 'c', 'a', 'f', 'b', 'e')\n",
            "('d', 'c', 'a', 'f', 'e', 'b')\n",
            "('d', 'c', 'b', 'a', 'e', 'f')\n",
            "('d', 'c', 'b', 'a', 'f', 'e')\n",
            "('d', 'c', 'b', 'e', 'a', 'f')\n",
            "('d', 'c', 'b', 'e', 'f', 'a')\n",
            "('d', 'c', 'b', 'f', 'a', 'e')\n",
            "('d', 'c', 'b', 'f', 'e', 'a')\n",
            "('d', 'c', 'e', 'a', 'b', 'f')\n",
            "('d', 'c', 'e', 'a', 'f', 'b')\n",
            "('d', 'c', 'e', 'b', 'a', 'f')\n",
            "('d', 'c', 'e', 'b', 'f', 'a')\n",
            "('d', 'c', 'e', 'f', 'a', 'b')\n",
            "('d', 'c', 'e', 'f', 'b', 'a')\n",
            "('d', 'c', 'f', 'a', 'b', 'e')\n",
            "('d', 'c', 'f', 'a', 'e', 'b')\n",
            "('d', 'c', 'f', 'b', 'a', 'e')\n",
            "('d', 'c', 'f', 'b', 'e', 'a')\n",
            "('d', 'c', 'f', 'e', 'a', 'b')\n",
            "('d', 'c', 'f', 'e', 'b', 'a')\n",
            "('d', 'e', 'a', 'b', 'c', 'f')\n",
            "('d', 'e', 'a', 'b', 'f', 'c')\n",
            "('d', 'e', 'a', 'c', 'b', 'f')\n",
            "('d', 'e', 'a', 'c', 'f', 'b')\n",
            "('d', 'e', 'a', 'f', 'b', 'c')\n",
            "('d', 'e', 'a', 'f', 'c', 'b')\n",
            "('d', 'e', 'b', 'a', 'c', 'f')\n",
            "('d', 'e', 'b', 'a', 'f', 'c')\n",
            "('d', 'e', 'b', 'c', 'a', 'f')\n",
            "('d', 'e', 'b', 'c', 'f', 'a')\n",
            "('d', 'e', 'b', 'f', 'a', 'c')\n",
            "('d', 'e', 'b', 'f', 'c', 'a')\n",
            "('d', 'e', 'c', 'a', 'b', 'f')\n",
            "('d', 'e', 'c', 'a', 'f', 'b')\n",
            "('d', 'e', 'c', 'b', 'a', 'f')\n",
            "('d', 'e', 'c', 'b', 'f', 'a')\n",
            "('d', 'e', 'c', 'f', 'a', 'b')\n",
            "('d', 'e', 'c', 'f', 'b', 'a')\n",
            "('d', 'e', 'f', 'a', 'b', 'c')\n",
            "('d', 'e', 'f', 'a', 'c', 'b')\n",
            "('d', 'e', 'f', 'b', 'a', 'c')\n",
            "('d', 'e', 'f', 'b', 'c', 'a')\n",
            "('d', 'e', 'f', 'c', 'a', 'b')\n",
            "('d', 'e', 'f', 'c', 'b', 'a')\n",
            "('d', 'f', 'a', 'b', 'c', 'e')\n",
            "('d', 'f', 'a', 'b', 'e', 'c')\n",
            "('d', 'f', 'a', 'c', 'b', 'e')\n",
            "('d', 'f', 'a', 'c', 'e', 'b')\n",
            "('d', 'f', 'a', 'e', 'b', 'c')\n",
            "('d', 'f', 'a', 'e', 'c', 'b')\n",
            "('d', 'f', 'b', 'a', 'c', 'e')\n",
            "('d', 'f', 'b', 'a', 'e', 'c')\n",
            "('d', 'f', 'b', 'c', 'a', 'e')\n",
            "('d', 'f', 'b', 'c', 'e', 'a')\n",
            "('d', 'f', 'b', 'e', 'a', 'c')\n",
            "('d', 'f', 'b', 'e', 'c', 'a')\n",
            "('d', 'f', 'c', 'a', 'b', 'e')\n",
            "('d', 'f', 'c', 'a', 'e', 'b')\n",
            "('d', 'f', 'c', 'b', 'a', 'e')\n",
            "('d', 'f', 'c', 'b', 'e', 'a')\n",
            "('d', 'f', 'c', 'e', 'a', 'b')\n",
            "('d', 'f', 'c', 'e', 'b', 'a')\n",
            "('d', 'f', 'e', 'a', 'b', 'c')\n",
            "('d', 'f', 'e', 'a', 'c', 'b')\n",
            "('d', 'f', 'e', 'b', 'a', 'c')\n",
            "('d', 'f', 'e', 'b', 'c', 'a')\n",
            "('d', 'f', 'e', 'c', 'a', 'b')\n",
            "('d', 'f', 'e', 'c', 'b', 'a')\n",
            "('e', 'a', 'b', 'c', 'd', 'f')\n",
            "('e', 'a', 'b', 'c', 'f', 'd')\n",
            "('e', 'a', 'b', 'd', 'c', 'f')\n",
            "('e', 'a', 'b', 'd', 'f', 'c')\n",
            "('e', 'a', 'b', 'f', 'c', 'd')\n",
            "('e', 'a', 'b', 'f', 'd', 'c')\n",
            "('e', 'a', 'c', 'b', 'd', 'f')\n",
            "('e', 'a', 'c', 'b', 'f', 'd')\n",
            "('e', 'a', 'c', 'd', 'b', 'f')\n",
            "('e', 'a', 'c', 'd', 'f', 'b')\n",
            "('e', 'a', 'c', 'f', 'b', 'd')\n",
            "('e', 'a', 'c', 'f', 'd', 'b')\n",
            "('e', 'a', 'd', 'b', 'c', 'f')\n",
            "('e', 'a', 'd', 'b', 'f', 'c')\n",
            "('e', 'a', 'd', 'c', 'b', 'f')\n",
            "('e', 'a', 'd', 'c', 'f', 'b')\n",
            "('e', 'a', 'd', 'f', 'b', 'c')\n",
            "('e', 'a', 'd', 'f', 'c', 'b')\n",
            "('e', 'a', 'f', 'b', 'c', 'd')\n",
            "('e', 'a', 'f', 'b', 'd', 'c')\n",
            "('e', 'a', 'f', 'c', 'b', 'd')\n",
            "('e', 'a', 'f', 'c', 'd', 'b')\n",
            "('e', 'a', 'f', 'd', 'b', 'c')\n",
            "('e', 'a', 'f', 'd', 'c', 'b')\n",
            "('e', 'b', 'a', 'c', 'd', 'f')\n",
            "('e', 'b', 'a', 'c', 'f', 'd')\n",
            "('e', 'b', 'a', 'd', 'c', 'f')\n",
            "('e', 'b', 'a', 'd', 'f', 'c')\n",
            "('e', 'b', 'a', 'f', 'c', 'd')\n",
            "('e', 'b', 'a', 'f', 'd', 'c')\n",
            "('e', 'b', 'c', 'a', 'd', 'f')\n",
            "('e', 'b', 'c', 'a', 'f', 'd')\n",
            "('e', 'b', 'c', 'd', 'a', 'f')\n",
            "('e', 'b', 'c', 'd', 'f', 'a')\n",
            "('e', 'b', 'c', 'f', 'a', 'd')\n",
            "('e', 'b', 'c', 'f', 'd', 'a')\n",
            "('e', 'b', 'd', 'a', 'c', 'f')\n",
            "('e', 'b', 'd', 'a', 'f', 'c')\n",
            "('e', 'b', 'd', 'c', 'a', 'f')\n",
            "('e', 'b', 'd', 'c', 'f', 'a')\n",
            "('e', 'b', 'd', 'f', 'a', 'c')\n",
            "('e', 'b', 'd', 'f', 'c', 'a')\n",
            "('e', 'b', 'f', 'a', 'c', 'd')\n",
            "('e', 'b', 'f', 'a', 'd', 'c')\n",
            "('e', 'b', 'f', 'c', 'a', 'd')\n",
            "('e', 'b', 'f', 'c', 'd', 'a')\n",
            "('e', 'b', 'f', 'd', 'a', 'c')\n",
            "('e', 'b', 'f', 'd', 'c', 'a')\n",
            "('e', 'c', 'a', 'b', 'd', 'f')\n",
            "('e', 'c', 'a', 'b', 'f', 'd')\n",
            "('e', 'c', 'a', 'd', 'b', 'f')\n",
            "('e', 'c', 'a', 'd', 'f', 'b')\n",
            "('e', 'c', 'a', 'f', 'b', 'd')\n",
            "('e', 'c', 'a', 'f', 'd', 'b')\n",
            "('e', 'c', 'b', 'a', 'd', 'f')\n",
            "('e', 'c', 'b', 'a', 'f', 'd')\n",
            "('e', 'c', 'b', 'd', 'a', 'f')\n",
            "('e', 'c', 'b', 'd', 'f', 'a')\n",
            "('e', 'c', 'b', 'f', 'a', 'd')\n",
            "('e', 'c', 'b', 'f', 'd', 'a')\n",
            "('e', 'c', 'd', 'a', 'b', 'f')\n",
            "('e', 'c', 'd', 'a', 'f', 'b')\n",
            "('e', 'c', 'd', 'b', 'a', 'f')\n",
            "('e', 'c', 'd', 'b', 'f', 'a')\n",
            "('e', 'c', 'd', 'f', 'a', 'b')\n",
            "('e', 'c', 'd', 'f', 'b', 'a')\n",
            "('e', 'c', 'f', 'a', 'b', 'd')\n",
            "('e', 'c', 'f', 'a', 'd', 'b')\n",
            "('e', 'c', 'f', 'b', 'a', 'd')\n",
            "('e', 'c', 'f', 'b', 'd', 'a')\n",
            "('e', 'c', 'f', 'd', 'a', 'b')\n",
            "('e', 'c', 'f', 'd', 'b', 'a')\n",
            "('e', 'd', 'a', 'b', 'c', 'f')\n",
            "('e', 'd', 'a', 'b', 'f', 'c')\n",
            "('e', 'd', 'a', 'c', 'b', 'f')\n",
            "('e', 'd', 'a', 'c', 'f', 'b')\n",
            "('e', 'd', 'a', 'f', 'b', 'c')\n",
            "('e', 'd', 'a', 'f', 'c', 'b')\n",
            "('e', 'd', 'b', 'a', 'c', 'f')\n",
            "('e', 'd', 'b', 'a', 'f', 'c')\n",
            "('e', 'd', 'b', 'c', 'a', 'f')\n",
            "('e', 'd', 'b', 'c', 'f', 'a')\n",
            "('e', 'd', 'b', 'f', 'a', 'c')\n",
            "('e', 'd', 'b', 'f', 'c', 'a')\n",
            "('e', 'd', 'c', 'a', 'b', 'f')\n",
            "('e', 'd', 'c', 'a', 'f', 'b')\n",
            "('e', 'd', 'c', 'b', 'a', 'f')\n",
            "('e', 'd', 'c', 'b', 'f', 'a')\n",
            "('e', 'd', 'c', 'f', 'a', 'b')\n",
            "('e', 'd', 'c', 'f', 'b', 'a')\n",
            "('e', 'd', 'f', 'a', 'b', 'c')\n",
            "('e', 'd', 'f', 'a', 'c', 'b')\n",
            "('e', 'd', 'f', 'b', 'a', 'c')\n",
            "('e', 'd', 'f', 'b', 'c', 'a')\n",
            "('e', 'd', 'f', 'c', 'a', 'b')\n",
            "('e', 'd', 'f', 'c', 'b', 'a')\n",
            "('e', 'f', 'a', 'b', 'c', 'd')\n",
            "('e', 'f', 'a', 'b', 'd', 'c')\n",
            "('e', 'f', 'a', 'c', 'b', 'd')\n",
            "('e', 'f', 'a', 'c', 'd', 'b')\n",
            "('e', 'f', 'a', 'd', 'b', 'c')\n",
            "('e', 'f', 'a', 'd', 'c', 'b')\n",
            "('e', 'f', 'b', 'a', 'c', 'd')\n",
            "('e', 'f', 'b', 'a', 'd', 'c')\n",
            "('e', 'f', 'b', 'c', 'a', 'd')\n",
            "('e', 'f', 'b', 'c', 'd', 'a')\n",
            "('e', 'f', 'b', 'd', 'a', 'c')\n",
            "('e', 'f', 'b', 'd', 'c', 'a')\n",
            "('e', 'f', 'c', 'a', 'b', 'd')\n",
            "('e', 'f', 'c', 'a', 'd', 'b')\n",
            "('e', 'f', 'c', 'b', 'a', 'd')\n",
            "('e', 'f', 'c', 'b', 'd', 'a')\n",
            "('e', 'f', 'c', 'd', 'a', 'b')\n",
            "('e', 'f', 'c', 'd', 'b', 'a')\n",
            "('e', 'f', 'd', 'a', 'b', 'c')\n",
            "('e', 'f', 'd', 'a', 'c', 'b')\n",
            "('e', 'f', 'd', 'b', 'a', 'c')\n",
            "('e', 'f', 'd', 'b', 'c', 'a')\n",
            "('e', 'f', 'd', 'c', 'a', 'b')\n",
            "('e', 'f', 'd', 'c', 'b', 'a')\n",
            "('f', 'a', 'b', 'c', 'd', 'e')\n",
            "('f', 'a', 'b', 'c', 'e', 'd')\n",
            "('f', 'a', 'b', 'd', 'c', 'e')\n",
            "('f', 'a', 'b', 'd', 'e', 'c')\n",
            "('f', 'a', 'b', 'e', 'c', 'd')\n",
            "('f', 'a', 'b', 'e', 'd', 'c')\n",
            "('f', 'a', 'c', 'b', 'd', 'e')\n",
            "('f', 'a', 'c', 'b', 'e', 'd')\n",
            "('f', 'a', 'c', 'd', 'b', 'e')\n",
            "('f', 'a', 'c', 'd', 'e', 'b')\n",
            "('f', 'a', 'c', 'e', 'b', 'd')\n",
            "('f', 'a', 'c', 'e', 'd', 'b')\n",
            "('f', 'a', 'd', 'b', 'c', 'e')\n",
            "('f', 'a', 'd', 'b', 'e', 'c')\n",
            "('f', 'a', 'd', 'c', 'b', 'e')\n",
            "('f', 'a', 'd', 'c', 'e', 'b')\n",
            "('f', 'a', 'd', 'e', 'b', 'c')\n",
            "('f', 'a', 'd', 'e', 'c', 'b')\n",
            "('f', 'a', 'e', 'b', 'c', 'd')\n",
            "('f', 'a', 'e', 'b', 'd', 'c')\n",
            "('f', 'a', 'e', 'c', 'b', 'd')\n",
            "('f', 'a', 'e', 'c', 'd', 'b')\n",
            "('f', 'a', 'e', 'd', 'b', 'c')\n",
            "('f', 'a', 'e', 'd', 'c', 'b')\n",
            "('f', 'b', 'a', 'c', 'd', 'e')\n",
            "('f', 'b', 'a', 'c', 'e', 'd')\n",
            "('f', 'b', 'a', 'd', 'c', 'e')\n",
            "('f', 'b', 'a', 'd', 'e', 'c')\n",
            "('f', 'b', 'a', 'e', 'c', 'd')\n",
            "('f', 'b', 'a', 'e', 'd', 'c')\n",
            "('f', 'b', 'c', 'a', 'd', 'e')\n",
            "('f', 'b', 'c', 'a', 'e', 'd')\n",
            "('f', 'b', 'c', 'd', 'a', 'e')\n",
            "('f', 'b', 'c', 'd', 'e', 'a')\n",
            "('f', 'b', 'c', 'e', 'a', 'd')\n",
            "('f', 'b', 'c', 'e', 'd', 'a')\n",
            "('f', 'b', 'd', 'a', 'c', 'e')\n",
            "('f', 'b', 'd', 'a', 'e', 'c')\n",
            "('f', 'b', 'd', 'c', 'a', 'e')\n",
            "('f', 'b', 'd', 'c', 'e', 'a')\n",
            "('f', 'b', 'd', 'e', 'a', 'c')\n",
            "('f', 'b', 'd', 'e', 'c', 'a')\n",
            "('f', 'b', 'e', 'a', 'c', 'd')\n",
            "('f', 'b', 'e', 'a', 'd', 'c')\n",
            "('f', 'b', 'e', 'c', 'a', 'd')\n",
            "('f', 'b', 'e', 'c', 'd', 'a')\n",
            "('f', 'b', 'e', 'd', 'a', 'c')\n",
            "('f', 'b', 'e', 'd', 'c', 'a')\n",
            "('f', 'c', 'a', 'b', 'd', 'e')\n",
            "('f', 'c', 'a', 'b', 'e', 'd')\n",
            "('f', 'c', 'a', 'd', 'b', 'e')\n",
            "('f', 'c', 'a', 'd', 'e', 'b')\n",
            "('f', 'c', 'a', 'e', 'b', 'd')\n",
            "('f', 'c', 'a', 'e', 'd', 'b')\n",
            "('f', 'c', 'b', 'a', 'd', 'e')\n",
            "('f', 'c', 'b', 'a', 'e', 'd')\n",
            "('f', 'c', 'b', 'd', 'a', 'e')\n",
            "('f', 'c', 'b', 'd', 'e', 'a')\n",
            "('f', 'c', 'b', 'e', 'a', 'd')\n",
            "('f', 'c', 'b', 'e', 'd', 'a')\n",
            "('f', 'c', 'd', 'a', 'b', 'e')\n",
            "('f', 'c', 'd', 'a', 'e', 'b')\n",
            "('f', 'c', 'd', 'b', 'a', 'e')\n",
            "('f', 'c', 'd', 'b', 'e', 'a')\n",
            "('f', 'c', 'd', 'e', 'a', 'b')\n",
            "('f', 'c', 'd', 'e', 'b', 'a')\n",
            "('f', 'c', 'e', 'a', 'b', 'd')\n",
            "('f', 'c', 'e', 'a', 'd', 'b')\n",
            "('f', 'c', 'e', 'b', 'a', 'd')\n",
            "('f', 'c', 'e', 'b', 'd', 'a')\n",
            "('f', 'c', 'e', 'd', 'a', 'b')\n",
            "('f', 'c', 'e', 'd', 'b', 'a')\n",
            "('f', 'd', 'a', 'b', 'c', 'e')\n",
            "('f', 'd', 'a', 'b', 'e', 'c')\n",
            "('f', 'd', 'a', 'c', 'b', 'e')\n",
            "('f', 'd', 'a', 'c', 'e', 'b')\n",
            "('f', 'd', 'a', 'e', 'b', 'c')\n",
            "('f', 'd', 'a', 'e', 'c', 'b')\n",
            "('f', 'd', 'b', 'a', 'c', 'e')\n",
            "('f', 'd', 'b', 'a', 'e', 'c')\n",
            "('f', 'd', 'b', 'c', 'a', 'e')\n",
            "('f', 'd', 'b', 'c', 'e', 'a')\n",
            "('f', 'd', 'b', 'e', 'a', 'c')\n",
            "('f', 'd', 'b', 'e', 'c', 'a')\n",
            "('f', 'd', 'c', 'a', 'b', 'e')\n",
            "('f', 'd', 'c', 'a', 'e', 'b')\n",
            "('f', 'd', 'c', 'b', 'a', 'e')\n",
            "('f', 'd', 'c', 'b', 'e', 'a')\n",
            "('f', 'd', 'c', 'e', 'a', 'b')\n",
            "('f', 'd', 'c', 'e', 'b', 'a')\n",
            "('f', 'd', 'e', 'a', 'b', 'c')\n",
            "('f', 'd', 'e', 'a', 'c', 'b')\n",
            "('f', 'd', 'e', 'b', 'a', 'c')\n",
            "('f', 'd', 'e', 'b', 'c', 'a')\n",
            "('f', 'd', 'e', 'c', 'a', 'b')\n",
            "('f', 'd', 'e', 'c', 'b', 'a')\n",
            "('f', 'e', 'a', 'b', 'c', 'd')\n",
            "('f', 'e', 'a', 'b', 'd', 'c')\n",
            "('f', 'e', 'a', 'c', 'b', 'd')\n",
            "('f', 'e', 'a', 'c', 'd', 'b')\n",
            "('f', 'e', 'a', 'd', 'b', 'c')\n",
            "('f', 'e', 'a', 'd', 'c', 'b')\n",
            "('f', 'e', 'b', 'a', 'c', 'd')\n",
            "('f', 'e', 'b', 'a', 'd', 'c')\n",
            "('f', 'e', 'b', 'c', 'a', 'd')\n",
            "('f', 'e', 'b', 'c', 'd', 'a')\n",
            "('f', 'e', 'b', 'd', 'a', 'c')\n",
            "('f', 'e', 'b', 'd', 'c', 'a')\n",
            "('f', 'e', 'c', 'a', 'b', 'd')\n",
            "('f', 'e', 'c', 'a', 'd', 'b')\n",
            "('f', 'e', 'c', 'b', 'a', 'd')\n",
            "('f', 'e', 'c', 'b', 'd', 'a')\n",
            "('f', 'e', 'c', 'd', 'a', 'b')\n",
            "('f', 'e', 'c', 'd', 'b', 'a')\n",
            "('f', 'e', 'd', 'a', 'b', 'c')\n",
            "('f', 'e', 'd', 'a', 'c', 'b')\n",
            "('f', 'e', 'd', 'b', 'a', 'c')\n",
            "('f', 'e', 'd', 'b', 'c', 'a')\n",
            "('f', 'e', 'd', 'c', 'a', 'b')\n",
            "('f', 'e', 'd', 'c', 'b', 'a')\n",
            "總共720次\n"
          ],
          "name": "stdout"
        }
      ]
    },
    {
      "cell_type": "code",
      "metadata": {
        "id": "3blWLZXloIyj",
        "colab_type": "code",
        "colab": {
          "base_uri": "https://localhost:8080/",
          "height": 1000
        },
        "outputId": "76e3a2b6-3adf-4cce-95de-2828dc633533"
      },
      "source": [
        "import itertools as ite\n",
        "\n",
        "x=['北京','天津','上海','廣州','武漢']\n",
        "perm=ite.permutations(x)\n",
        "n=0\n",
        "for i in perm:\n",
        "  print(i)\n",
        "  n=n+1\n",
        "print(\"總共有%d拜訪方式\"%n)"
      ],
      "execution_count": 32,
      "outputs": [
        {
          "output_type": "stream",
          "text": [
            "('北京', '天津', '上海', '廣州', '武漢')\n",
            "('北京', '天津', '上海', '武漢', '廣州')\n",
            "('北京', '天津', '廣州', '上海', '武漢')\n",
            "('北京', '天津', '廣州', '武漢', '上海')\n",
            "('北京', '天津', '武漢', '上海', '廣州')\n",
            "('北京', '天津', '武漢', '廣州', '上海')\n",
            "('北京', '上海', '天津', '廣州', '武漢')\n",
            "('北京', '上海', '天津', '武漢', '廣州')\n",
            "('北京', '上海', '廣州', '天津', '武漢')\n",
            "('北京', '上海', '廣州', '武漢', '天津')\n",
            "('北京', '上海', '武漢', '天津', '廣州')\n",
            "('北京', '上海', '武漢', '廣州', '天津')\n",
            "('北京', '廣州', '天津', '上海', '武漢')\n",
            "('北京', '廣州', '天津', '武漢', '上海')\n",
            "('北京', '廣州', '上海', '天津', '武漢')\n",
            "('北京', '廣州', '上海', '武漢', '天津')\n",
            "('北京', '廣州', '武漢', '天津', '上海')\n",
            "('北京', '廣州', '武漢', '上海', '天津')\n",
            "('北京', '武漢', '天津', '上海', '廣州')\n",
            "('北京', '武漢', '天津', '廣州', '上海')\n",
            "('北京', '武漢', '上海', '天津', '廣州')\n",
            "('北京', '武漢', '上海', '廣州', '天津')\n",
            "('北京', '武漢', '廣州', '天津', '上海')\n",
            "('北京', '武漢', '廣州', '上海', '天津')\n",
            "('天津', '北京', '上海', '廣州', '武漢')\n",
            "('天津', '北京', '上海', '武漢', '廣州')\n",
            "('天津', '北京', '廣州', '上海', '武漢')\n",
            "('天津', '北京', '廣州', '武漢', '上海')\n",
            "('天津', '北京', '武漢', '上海', '廣州')\n",
            "('天津', '北京', '武漢', '廣州', '上海')\n",
            "('天津', '上海', '北京', '廣州', '武漢')\n",
            "('天津', '上海', '北京', '武漢', '廣州')\n",
            "('天津', '上海', '廣州', '北京', '武漢')\n",
            "('天津', '上海', '廣州', '武漢', '北京')\n",
            "('天津', '上海', '武漢', '北京', '廣州')\n",
            "('天津', '上海', '武漢', '廣州', '北京')\n",
            "('天津', '廣州', '北京', '上海', '武漢')\n",
            "('天津', '廣州', '北京', '武漢', '上海')\n",
            "('天津', '廣州', '上海', '北京', '武漢')\n",
            "('天津', '廣州', '上海', '武漢', '北京')\n",
            "('天津', '廣州', '武漢', '北京', '上海')\n",
            "('天津', '廣州', '武漢', '上海', '北京')\n",
            "('天津', '武漢', '北京', '上海', '廣州')\n",
            "('天津', '武漢', '北京', '廣州', '上海')\n",
            "('天津', '武漢', '上海', '北京', '廣州')\n",
            "('天津', '武漢', '上海', '廣州', '北京')\n",
            "('天津', '武漢', '廣州', '北京', '上海')\n",
            "('天津', '武漢', '廣州', '上海', '北京')\n",
            "('上海', '北京', '天津', '廣州', '武漢')\n",
            "('上海', '北京', '天津', '武漢', '廣州')\n",
            "('上海', '北京', '廣州', '天津', '武漢')\n",
            "('上海', '北京', '廣州', '武漢', '天津')\n",
            "('上海', '北京', '武漢', '天津', '廣州')\n",
            "('上海', '北京', '武漢', '廣州', '天津')\n",
            "('上海', '天津', '北京', '廣州', '武漢')\n",
            "('上海', '天津', '北京', '武漢', '廣州')\n",
            "('上海', '天津', '廣州', '北京', '武漢')\n",
            "('上海', '天津', '廣州', '武漢', '北京')\n",
            "('上海', '天津', '武漢', '北京', '廣州')\n",
            "('上海', '天津', '武漢', '廣州', '北京')\n",
            "('上海', '廣州', '北京', '天津', '武漢')\n",
            "('上海', '廣州', '北京', '武漢', '天津')\n",
            "('上海', '廣州', '天津', '北京', '武漢')\n",
            "('上海', '廣州', '天津', '武漢', '北京')\n",
            "('上海', '廣州', '武漢', '北京', '天津')\n",
            "('上海', '廣州', '武漢', '天津', '北京')\n",
            "('上海', '武漢', '北京', '天津', '廣州')ERROR! Session/line number was not unique in\n",
            " ('上海', '武漢', '北京', '廣州', '天津')database. History logging moved to new session\n",
            " ('上海', '武漢', '天津', '北京', '廣州')74\n",
            "\n",
            "('上海', '武漢', '天津', '廣州', '北京')\n",
            "('上海', '武漢', '廣州', '北京', '天津')\n",
            "('上海', '武漢', '廣州', '天津', '北京')\n",
            "('廣州', '北京', '天津', '上海', '武漢')\n",
            "('廣州', '北京', '天津', '武漢', '上海')\n",
            "('廣州', '北京', '上海', '天津', '武漢')\n",
            "('廣州', '北京', '上海', '武漢', '天津')\n",
            "('廣州', '北京', '武漢', '天津', '上海')\n",
            "('廣州', '北京', '武漢', '上海', '天津')\n",
            "('廣州', '天津', '北京', '上海', '武漢')\n",
            "('廣州', '天津', '北京', '武漢', '上海')\n",
            "('廣州', '天津', '上海', '北京', '武漢')\n",
            "('廣州', '天津', '上海', '武漢', '北京')\n",
            "('廣州', '天津', '武漢', '北京', '上海')\n",
            "('廣州', '天津', '武漢', '上海', '北京')\n",
            "('廣州', '上海', '北京', '天津', '武漢')\n",
            "('廣州', '上海', '北京', '武漢', '天津')\n",
            "('廣州', '上海', '天津', '北京', '武漢')\n",
            "('廣州', '上海', '天津', '武漢', '北京')\n",
            "('廣州', '上海', '武漢', '北京', '天津')\n",
            "('廣州', '上海', '武漢', '天津', '北京')\n",
            "('廣州', '武漢', '北京', '天津', '上海')\n",
            "('廣州', '武漢', '北京', '上海', '天津')\n",
            "('廣州', '武漢', '天津', '北京', '上海')\n",
            "('廣州', '武漢', '天津', '上海', '北京')\n",
            "('廣州', '武漢', '上海', '北京', '天津')\n",
            "('廣州', '武漢', '上海', '天津', '北京')\n",
            "('武漢', '北京', '天津', '上海', '廣州')\n",
            "('武漢', '北京', '天津', '廣州', '上海')\n",
            "('武漢', '北京', '上海', '天津', '廣州')\n",
            "('武漢', '北京', '上海', '廣州', '天津')\n",
            "('武漢', '北京', '廣州', '天津', '上海')\n",
            "('武漢', '北京', '廣州', '上海', '天津')\n",
            "('武漢', '天津', '北京', '上海', '廣州')\n",
            "('武漢', '天津', '北京', '廣州', '上海')\n",
            "('武漢', '天津', '上海', '北京', '廣州')\n",
            "('武漢', '天津', '上海', '廣州', '北京')\n",
            "('武漢', '天津', '廣州', '北京', '上海')\n",
            "('武漢', '天津', '廣州', '上海', '北京')\n",
            "('武漢', '上海', '北京', '天津', '廣州')\n",
            "('武漢', '上海', '北京', '廣州', '天津')\n",
            "('武漢', '上海', '天津', '北京', '廣州')\n",
            "('武漢', '上海', '天津', '廣州', '北京')\n",
            "('武漢', '上海', '廣州', '北京', '天津')\n",
            "('武漢', '上海', '廣州', '天津', '北京')\n",
            "('武漢', '廣州', '北京', '天津', '上海')\n",
            "('武漢', '廣州', '北京', '上海', '天津')\n",
            "('武漢', '廣州', '天津', '北京', '上海')\n",
            "('武漢', '廣州', '天津', '上海', '北京')\n",
            "('武漢', '廣州', '上海', '北京', '天津')\n",
            "('武漢', '廣州', '上海', '天津', '北京')\n",
            "總共有120拜訪方式\n"
          ],
          "name": "stdout"
        }
      ]
    },
    {
      "cell_type": "code",
      "metadata": {
        "id": "bDmsBKO_pHZ_",
        "colab_type": "code",
        "colab": {}
      },
      "source": [
        ""
      ],
      "execution_count": 0,
      "outputs": []
    },
    {
      "cell_type": "code",
      "metadata": {
        "id": "VWsmAzl9pFPn",
        "colab_type": "code",
        "colab": {}
      },
      "source": [
        ""
      ],
      "execution_count": 0,
      "outputs": []
    },
    {
      "cell_type": "code",
      "metadata": {
        "id": "Fr5job6Bn-fb",
        "colab_type": "code",
        "colab": {}
      },
      "source": [
        ""
      ],
      "execution_count": 0,
      "outputs": []
    },
    {
      "cell_type": "code",
      "metadata": {
        "id": "-L3SSEf8n89T",
        "colab_type": "code",
        "colab": {}
      },
      "source": [
        ""
      ],
      "execution_count": 0,
      "outputs": []
    },
    {
      "cell_type": "code",
      "metadata": {
        "id": "EoHdhngkn4Nt",
        "colab_type": "code",
        "colab": {}
      },
      "source": [
        ""
      ],
      "execution_count": 0,
      "outputs": []
    },
    {
      "cell_type": "code",
      "metadata": {
        "id": "h0Bq7THrn1nu",
        "colab_type": "code",
        "colab": {}
      },
      "source": [
        ""
      ],
      "execution_count": 0,
      "outputs": []
    },
    {
      "cell_type": "code",
      "metadata": {
        "id": "Sd4Q21pomaqX",
        "colab_type": "code",
        "colab": {}
      },
      "source": [
        ""
      ],
      "execution_count": 0,
      "outputs": []
    },
    {
      "cell_type": "code",
      "metadata": {
        "id": "sT1KpJDVmW0N",
        "colab_type": "code",
        "colab": {}
      },
      "source": [
        ""
      ],
      "execution_count": 0,
      "outputs": []
    },
    {
      "cell_type": "code",
      "metadata": {
        "id": "4ONoxflVmEaP",
        "colab_type": "code",
        "colab": {}
      },
      "source": [
        ""
      ],
      "execution_count": 0,
      "outputs": []
    },
    {
      "cell_type": "code",
      "metadata": {
        "id": "OtywU_5wl9Q7",
        "colab_type": "code",
        "colab": {}
      },
      "source": [
        ""
      ],
      "execution_count": 0,
      "outputs": []
    },
    {
      "cell_type": "code",
      "metadata": {
        "id": "Ez8FCCTfl3qp",
        "colab_type": "code",
        "colab": {}
      },
      "source": [
        ""
      ],
      "execution_count": 0,
      "outputs": []
    },
    {
      "cell_type": "code",
      "metadata": {
        "id": "9DfQliHJl0fr",
        "colab_type": "code",
        "colab": {}
      },
      "source": [
        ""
      ],
      "execution_count": 0,
      "outputs": []
    },
    {
      "cell_type": "code",
      "metadata": {
        "id": "26P5RrtslvSl",
        "colab_type": "code",
        "colab": {}
      },
      "source": [
        ""
      ],
      "execution_count": 0,
      "outputs": []
    },
    {
      "cell_type": "code",
      "metadata": {
        "id": "XYOdvfLLlNop",
        "colab_type": "code",
        "colab": {}
      },
      "source": [
        ""
      ],
      "execution_count": 0,
      "outputs": []
    },
    {
      "cell_type": "code",
      "metadata": {
        "id": "0GXpHGr-jJyM",
        "colab_type": "code",
        "colab": {}
      },
      "source": [
        ""
      ],
      "execution_count": 0,
      "outputs": []
    },
    {
      "cell_type": "code",
      "metadata": {
        "id": "sO84MKgCjAUj",
        "colab_type": "code",
        "colab": {}
      },
      "source": [
        ""
      ],
      "execution_count": 0,
      "outputs": []
    },
    {
      "cell_type": "code",
      "metadata": {
        "id": "CXUwkfCvi5Yn",
        "colab_type": "code",
        "colab": {}
      },
      "source": [
        ""
      ],
      "execution_count": 0,
      "outputs": []
    },
    {
      "cell_type": "code",
      "metadata": {
        "id": "rlZ6HEEPikSv",
        "colab_type": "code",
        "colab": {}
      },
      "source": [
        ""
      ],
      "execution_count": 0,
      "outputs": []
    },
    {
      "cell_type": "code",
      "metadata": {
        "id": "1Fq7gngHhJM7",
        "colab_type": "code",
        "colab": {}
      },
      "source": [
        ""
      ],
      "execution_count": 0,
      "outputs": []
    },
    {
      "cell_type": "code",
      "metadata": {
        "id": "8l9WCes8go8j",
        "colab_type": "code",
        "colab": {}
      },
      "source": [
        ""
      ],
      "execution_count": 0,
      "outputs": []
    },
    {
      "cell_type": "code",
      "metadata": {
        "id": "jS1kp2K0glnb",
        "colab_type": "code",
        "colab": {}
      },
      "source": [
        ""
      ],
      "execution_count": 0,
      "outputs": []
    },
    {
      "cell_type": "code",
      "metadata": {
        "id": "EOsP_793giEj",
        "colab_type": "code",
        "colab": {}
      },
      "source": [
        ""
      ],
      "execution_count": 0,
      "outputs": []
    },
    {
      "cell_type": "code",
      "metadata": {
        "id": "HMOG5iLZgfUm",
        "colab_type": "code",
        "colab": {}
      },
      "source": [
        ""
      ],
      "execution_count": 0,
      "outputs": []
    },
    {
      "cell_type": "code",
      "metadata": {
        "id": "_5IUebeFgboN",
        "colab_type": "code",
        "colab": {}
      },
      "source": [
        ""
      ],
      "execution_count": 0,
      "outputs": []
    },
    {
      "cell_type": "code",
      "metadata": {
        "id": "E__qO4iLgXx9",
        "colab_type": "code",
        "colab": {}
      },
      "source": [
        ""
      ],
      "execution_count": 0,
      "outputs": []
    },
    {
      "cell_type": "code",
      "metadata": {
        "id": "7aF0gJfYfmCD",
        "colab_type": "code",
        "colab": {}
      },
      "source": [
        ""
      ],
      "execution_count": 0,
      "outputs": []
    },
    {
      "cell_type": "code",
      "metadata": {
        "id": "U7P1ShDbfiZP",
        "colab_type": "code",
        "colab": {}
      },
      "source": [
        ""
      ],
      "execution_count": 0,
      "outputs": []
    },
    {
      "cell_type": "code",
      "metadata": {
        "id": "5_iEo2-XfZr4",
        "colab_type": "code",
        "colab": {}
      },
      "source": [
        ""
      ],
      "execution_count": 0,
      "outputs": []
    },
    {
      "cell_type": "code",
      "metadata": {
        "id": "dfjNPDCOeaHR",
        "colab_type": "code",
        "colab": {}
      },
      "source": [
        ""
      ],
      "execution_count": 0,
      "outputs": []
    },
    {
      "cell_type": "code",
      "metadata": {
        "id": "TuKeYENBeVou",
        "colab_type": "code",
        "colab": {}
      },
      "source": [
        ""
      ],
      "execution_count": 0,
      "outputs": []
    },
    {
      "cell_type": "code",
      "metadata": {
        "id": "AoZiHeTBdFTw",
        "colab_type": "code",
        "colab": {}
      },
      "source": [
        ""
      ],
      "execution_count": 0,
      "outputs": []
    },
    {
      "cell_type": "code",
      "metadata": {
        "id": "aGl6kbQbc-tW",
        "colab_type": "code",
        "colab": {}
      },
      "source": [
        ""
      ],
      "execution_count": 0,
      "outputs": []
    },
    {
      "cell_type": "code",
      "metadata": {
        "id": "j1N3yt-NcQE3",
        "colab_type": "code",
        "colab": {}
      },
      "source": [
        ""
      ],
      "execution_count": 0,
      "outputs": []
    },
    {
      "cell_type": "code",
      "metadata": {
        "id": "x08o6ls8b7ZH",
        "colab_type": "code",
        "colab": {}
      },
      "source": [
        ""
      ],
      "execution_count": 0,
      "outputs": []
    },
    {
      "cell_type": "code",
      "metadata": {
        "id": "AAuz_6bBb2-7",
        "colab_type": "code",
        "colab": {}
      },
      "source": [
        ""
      ],
      "execution_count": 0,
      "outputs": []
    },
    {
      "cell_type": "code",
      "metadata": {
        "id": "tOM1pQrGbxQI",
        "colab_type": "code",
        "colab": {}
      },
      "source": [
        ""
      ],
      "execution_count": 0,
      "outputs": []
    }
  ]
}